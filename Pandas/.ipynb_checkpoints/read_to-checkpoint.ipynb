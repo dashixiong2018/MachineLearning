{
 "cells": [
  {
   "cell_type": "markdown",
   "metadata": {},
   "source": [
    "# 读写文件"
   ]
  },
  {
   "cell_type": "code",
   "execution_count": 1,
   "metadata": {},
   "outputs": [],
   "source": [
    "import numpy as np\n",
    "import pandas as pd"
   ]
  },
  {
   "cell_type": "code",
   "execution_count": 2,
   "metadata": {},
   "outputs": [],
   "source": [
    "df=pd.read_excel('stu1excel.xlsx')      #直接导入Excel表格\n",
    "df1=pd.read_csv('stu-8.csv',sep='\\t')             #导入csv(UTF-8)格式(.csv默认分隔符是逗号)\n",
    "df2=pd.read_csv('stu-88.csv',sep='\\t')            #导入csv(UTF-8)格式，但是前两行是嵌套表格"
   ]
  },
  {
   "cell_type": "code",
   "execution_count": 3,
   "metadata": {},
   "outputs": [
    {
     "data": {
      "text/html": [
       "<div>\n",
       "<style scoped>\n",
       "    .dataframe tbody tr th:only-of-type {\n",
       "        vertical-align: middle;\n",
       "    }\n",
       "\n",
       "    .dataframe tbody tr th {\n",
       "        vertical-align: top;\n",
       "    }\n",
       "\n",
       "    .dataframe thead th {\n",
       "        text-align: right;\n",
       "    }\n",
       "</style>\n",
       "<table border=\"1\" class=\"dataframe\">\n",
       "  <thead>\n",
       "    <tr style=\"text-align: right;\">\n",
       "      <th></th>\n",
       "      <th>序号</th>\n",
       "      <th>院系</th>\n",
       "      <th>学号</th>\n",
       "      <th>姓名</th>\n",
       "      <th>培养层次</th>\n",
       "      <th>奖学金等级</th>\n",
       "      <th>入选理由</th>\n",
       "    </tr>\n",
       "  </thead>\n",
       "  <tbody>\n",
       "    <tr>\n",
       "      <th>0</th>\n",
       "      <td>1</td>\n",
       "      <td>数科院</td>\n",
       "      <td>2150501009</td>\n",
       "      <td>李镛</td>\n",
       "      <td>博士</td>\n",
       "      <td>一等</td>\n",
       "      <td>科研成果丰富</td>\n",
       "    </tr>\n",
       "    <tr>\n",
       "      <th>1</th>\n",
       "      <td>2</td>\n",
       "      <td>数科院</td>\n",
       "      <td>2150501017</td>\n",
       "      <td>徐金秋</td>\n",
       "      <td>博士</td>\n",
       "      <td>一等</td>\n",
       "      <td>科研成果丰富</td>\n",
       "    </tr>\n",
       "    <tr>\n",
       "      <th>2</th>\n",
       "      <td>3</td>\n",
       "      <td>数科院</td>\n",
       "      <td>2160501012</td>\n",
       "      <td>王营</td>\n",
       "      <td>博士</td>\n",
       "      <td>一等</td>\n",
       "      <td>科研成果丰富</td>\n",
       "    </tr>\n",
       "    <tr>\n",
       "      <th>3</th>\n",
       "      <td>4</td>\n",
       "      <td>数科院</td>\n",
       "      <td>2160501015</td>\n",
       "      <td>杨龙妹</td>\n",
       "      <td>博士</td>\n",
       "      <td>一等</td>\n",
       "      <td>科研成果丰富</td>\n",
       "    </tr>\n",
       "    <tr>\n",
       "      <th>4</th>\n",
       "      <td>5</td>\n",
       "      <td>数科院</td>\n",
       "      <td>2160501020</td>\n",
       "      <td>邓小娟</td>\n",
       "      <td>博士</td>\n",
       "      <td>一等</td>\n",
       "      <td>科研成果丰富</td>\n",
       "    </tr>\n",
       "    <tr>\n",
       "      <th>5</th>\n",
       "      <td>6</td>\n",
       "      <td>数科院</td>\n",
       "      <td>2170501015</td>\n",
       "      <td>廖军</td>\n",
       "      <td>博士</td>\n",
       "      <td>一等</td>\n",
       "      <td>科研成果丰富</td>\n",
       "    </tr>\n",
       "  </tbody>\n",
       "</table>\n",
       "</div>"
      ],
      "text/plain": [
       "   序号   院系          学号   姓名 培养层次 奖学金等级    入选理由\n",
       "0   1  数科院  2150501009   李镛   博士    一等  科研成果丰富\n",
       "1   2  数科院  2150501017  徐金秋   博士    一等  科研成果丰富\n",
       "2   3  数科院  2160501012   王营   博士    一等  科研成果丰富\n",
       "3   4  数科院  2160501015  杨龙妹   博士    一等  科研成果丰富\n",
       "4   5  数科院  2160501020  邓小娟   博士    一等  科研成果丰富\n",
       "5   6  数科院  2170501015   廖军   博士    一等  科研成果丰富"
      ]
     },
     "execution_count": 3,
     "metadata": {},
     "output_type": "execute_result"
    }
   ],
   "source": [
    "df"
   ]
  },
  {
   "cell_type": "code",
   "execution_count": 4,
   "metadata": {},
   "outputs": [
    {
     "name": "stdout",
     "output_type": "stream",
     "text": [
      "RangeIndex(start=0, stop=6, step=1)\n",
      "Index(['序号', '院系', '学号', '姓名', '培养层次', '奖学金等级', '入选理由'], dtype='object')\n"
     ]
    }
   ],
   "source": [
    "print(df.index)\n",
    "print(df.columns)"
   ]
  },
  {
   "cell_type": "code",
   "execution_count": 5,
   "metadata": {},
   "outputs": [
    {
     "data": {
      "text/html": [
       "<div>\n",
       "<style scoped>\n",
       "    .dataframe tbody tr th:only-of-type {\n",
       "        vertical-align: middle;\n",
       "    }\n",
       "\n",
       "    .dataframe tbody tr th {\n",
       "        vertical-align: top;\n",
       "    }\n",
       "\n",
       "    .dataframe thead th {\n",
       "        text-align: right;\n",
       "    }\n",
       "</style>\n",
       "<table border=\"1\" class=\"dataframe\">\n",
       "  <thead>\n",
       "    <tr style=\"text-align: right;\">\n",
       "      <th></th>\n",
       "      <th>序号</th>\n",
       "      <th>院系</th>\n",
       "      <th>学号</th>\n",
       "      <th>姓名</th>\n",
       "      <th>培养层次</th>\n",
       "      <th>奖学金等级</th>\n",
       "      <th>入选理由</th>\n",
       "    </tr>\n",
       "  </thead>\n",
       "  <tbody>\n",
       "    <tr>\n",
       "      <th>0</th>\n",
       "      <td>1</td>\n",
       "      <td>数科院</td>\n",
       "      <td>2150501009</td>\n",
       "      <td>李镛</td>\n",
       "      <td>博士</td>\n",
       "      <td>一等</td>\n",
       "      <td>科研成果丰富</td>\n",
       "    </tr>\n",
       "    <tr>\n",
       "      <th>1</th>\n",
       "      <td>2</td>\n",
       "      <td>数科院</td>\n",
       "      <td>2150501017</td>\n",
       "      <td>徐金秋</td>\n",
       "      <td>博士</td>\n",
       "      <td>一等</td>\n",
       "      <td>科研成果丰富</td>\n",
       "    </tr>\n",
       "    <tr>\n",
       "      <th>2</th>\n",
       "      <td>3</td>\n",
       "      <td>数科院</td>\n",
       "      <td>2160501012</td>\n",
       "      <td>王营</td>\n",
       "      <td>博士</td>\n",
       "      <td>一等</td>\n",
       "      <td>科研成果丰富</td>\n",
       "    </tr>\n",
       "    <tr>\n",
       "      <th>3</th>\n",
       "      <td>4</td>\n",
       "      <td>数科院</td>\n",
       "      <td>2160501015</td>\n",
       "      <td>杨龙妹</td>\n",
       "      <td>博士</td>\n",
       "      <td>一等</td>\n",
       "      <td>科研成果丰富</td>\n",
       "    </tr>\n",
       "    <tr>\n",
       "      <th>4</th>\n",
       "      <td>5</td>\n",
       "      <td>数科院</td>\n",
       "      <td>2160501020</td>\n",
       "      <td>邓小娟</td>\n",
       "      <td>博士</td>\n",
       "      <td>一等</td>\n",
       "      <td>科研成果丰富</td>\n",
       "    </tr>\n",
       "    <tr>\n",
       "      <th>5</th>\n",
       "      <td>6</td>\n",
       "      <td>数科院</td>\n",
       "      <td>2170501015</td>\n",
       "      <td>廖军</td>\n",
       "      <td>博士</td>\n",
       "      <td>一等</td>\n",
       "      <td>科研成果丰富</td>\n",
       "    </tr>\n",
       "  </tbody>\n",
       "</table>\n",
       "</div>"
      ],
      "text/plain": [
       "   序号   院系          学号   姓名 培养层次 奖学金等级    入选理由\n",
       "0   1  数科院  2150501009   李镛   博士    一等  科研成果丰富\n",
       "1   2  数科院  2150501017  徐金秋   博士    一等  科研成果丰富\n",
       "2   3  数科院  2160501012   王营   博士    一等  科研成果丰富\n",
       "3   4  数科院  2160501015  杨龙妹   博士    一等  科研成果丰富\n",
       "4   5  数科院  2160501020  邓小娟   博士    一等  科研成果丰富\n",
       "5   6  数科院  2170501015   廖军   博士    一等  科研成果丰富"
      ]
     },
     "execution_count": 5,
     "metadata": {},
     "output_type": "execute_result"
    }
   ],
   "source": [
    "df1"
   ]
  },
  {
   "cell_type": "code",
   "execution_count": 6,
   "metadata": {},
   "outputs": [],
   "source": [
    "#x修改原文本中的不恰当格式\n",
    "#!sed -i -e 's/\"//g;1,2d' stu-88.csv \n",
    "#!sed -i 's/\"//g' stu-8.csv"
   ]
  },
  {
   "cell_type": "code",
   "execution_count": 7,
   "metadata": {},
   "outputs": [
    {
     "name": "stdout",
     "output_type": "stream",
     "text": [
      "RangeIndex(start=0, stop=6, step=1)\n",
      "Index(['序号', '院系', '学号', '姓名', '培养层次', '奖学金等级', '入选理由'], dtype='object')\n"
     ]
    }
   ],
   "source": [
    "print(df1.index)\n",
    "print(df1.columns)"
   ]
  },
  {
   "cell_type": "code",
   "execution_count": 8,
   "metadata": {},
   "outputs": [
    {
     "name": "stdout",
     "output_type": "stream",
     "text": [
      "序号\t院系\t学号\t姓名\t培养层次\t奖学金等级\t入选理由\r",
      "\r\n",
      "1\t数科院\t2150501009\t李镛\t博士\t一等\t科研成果丰富\r",
      "\r\n",
      "2\t数科院\t2150501017\t徐金秋\t博士\t一等\t科研成果丰富\r",
      "\r\n",
      "3\t数科院\t2160501012\t王营\t博士\t一等\t科研成果丰富\r",
      "\r\n",
      "4\t数科院\t2160501015\t杨龙妹\t博士\t一等\t科研成果丰富\r",
      "\r\n"
     ]
    }
   ],
   "source": [
    "!cat stu-88.csv"
   ]
  },
  {
   "cell_type": "code",
   "execution_count": 9,
   "metadata": {},
   "outputs": [
    {
     "data": {
      "text/html": [
       "<div>\n",
       "<style scoped>\n",
       "    .dataframe tbody tr th:only-of-type {\n",
       "        vertical-align: middle;\n",
       "    }\n",
       "\n",
       "    .dataframe tbody tr th {\n",
       "        vertical-align: top;\n",
       "    }\n",
       "\n",
       "    .dataframe thead th {\n",
       "        text-align: right;\n",
       "    }\n",
       "</style>\n",
       "<table border=\"1\" class=\"dataframe\">\n",
       "  <thead>\n",
       "    <tr style=\"text-align: right;\">\n",
       "      <th></th>\n",
       "      <th>序号</th>\n",
       "      <th>院系</th>\n",
       "      <th>学号</th>\n",
       "      <th>姓名</th>\n",
       "      <th>培养层次</th>\n",
       "      <th>奖学金等级</th>\n",
       "      <th>入选理由</th>\n",
       "    </tr>\n",
       "  </thead>\n",
       "  <tbody>\n",
       "    <tr>\n",
       "      <th>0</th>\n",
       "      <td>1</td>\n",
       "      <td>数科院</td>\n",
       "      <td>2150501009</td>\n",
       "      <td>李镛</td>\n",
       "      <td>博士</td>\n",
       "      <td>一等</td>\n",
       "      <td>科研成果丰富</td>\n",
       "    </tr>\n",
       "    <tr>\n",
       "      <th>1</th>\n",
       "      <td>2</td>\n",
       "      <td>数科院</td>\n",
       "      <td>2150501017</td>\n",
       "      <td>徐金秋</td>\n",
       "      <td>博士</td>\n",
       "      <td>一等</td>\n",
       "      <td>科研成果丰富</td>\n",
       "    </tr>\n",
       "    <tr>\n",
       "      <th>2</th>\n",
       "      <td>3</td>\n",
       "      <td>数科院</td>\n",
       "      <td>2160501012</td>\n",
       "      <td>王营</td>\n",
       "      <td>博士</td>\n",
       "      <td>一等</td>\n",
       "      <td>科研成果丰富</td>\n",
       "    </tr>\n",
       "    <tr>\n",
       "      <th>3</th>\n",
       "      <td>4</td>\n",
       "      <td>数科院</td>\n",
       "      <td>2160501015</td>\n",
       "      <td>杨龙妹</td>\n",
       "      <td>博士</td>\n",
       "      <td>一等</td>\n",
       "      <td>科研成果丰富</td>\n",
       "    </tr>\n",
       "  </tbody>\n",
       "</table>\n",
       "</div>"
      ],
      "text/plain": [
       "   序号   院系          学号   姓名 培养层次 奖学金等级    入选理由\n",
       "0   1  数科院  2150501009   李镛   博士    一等  科研成果丰富\n",
       "1   2  数科院  2150501017  徐金秋   博士    一等  科研成果丰富\n",
       "2   3  数科院  2160501012   王营   博士    一等  科研成果丰富\n",
       "3   4  数科院  2160501015  杨龙妹   博士    一等  科研成果丰富"
      ]
     },
     "execution_count": 9,
     "metadata": {},
     "output_type": "execute_result"
    }
   ],
   "source": [
    "df2"
   ]
  },
  {
   "cell_type": "markdown",
   "metadata": {},
   "source": [
    "嵌套表格不能识别列标（避免使用）"
   ]
  },
  {
   "cell_type": "code",
   "execution_count": 14,
   "metadata": {},
   "outputs": [
    {
     "data": {
      "text/plain": [
       "Index(['序号', '院系', '学号', '姓名', '培养层次', '奖学金等级', '入选理由'], dtype='object')"
      ]
     },
     "execution_count": 14,
     "metadata": {},
     "output_type": "execute_result"
    }
   ],
   "source": [
    "df2.columns"
   ]
  },
  {
   "cell_type": "code",
   "execution_count": 15,
   "metadata": {},
   "outputs": [
    {
     "data": {
      "text/plain": [
       "RangeIndex(start=0, stop=4, step=1)"
      ]
     },
     "execution_count": 15,
     "metadata": {},
     "output_type": "execute_result"
    }
   ],
   "source": [
    "df2.index"
   ]
  },
  {
   "cell_type": "markdown",
   "metadata": {},
   "source": [
    "pickle是一种适用于python的二进制数据类型（便于传输）\n",
    "将数据保存"
   ]
  },
  {
   "cell_type": "code",
   "execution_count": 16,
   "metadata": {},
   "outputs": [],
   "source": [
    "df.to_pickle(\"data1\")\n",
    "df.to_excel(\"Linux.xlsx\")              #保存为Excel格式"
   ]
  },
  {
   "cell_type": "code",
   "execution_count": 17,
   "metadata": {},
   "outputs": [],
   "source": [
    "df3=pd.read_pickle('data1')"
   ]
  },
  {
   "cell_type": "code",
   "execution_count": 18,
   "metadata": {},
   "outputs": [
    {
     "data": {
      "text/html": [
       "<div>\n",
       "<style scoped>\n",
       "    .dataframe tbody tr th:only-of-type {\n",
       "        vertical-align: middle;\n",
       "    }\n",
       "\n",
       "    .dataframe tbody tr th {\n",
       "        vertical-align: top;\n",
       "    }\n",
       "\n",
       "    .dataframe thead th {\n",
       "        text-align: right;\n",
       "    }\n",
       "</style>\n",
       "<table border=\"1\" class=\"dataframe\">\n",
       "  <thead>\n",
       "    <tr style=\"text-align: right;\">\n",
       "      <th></th>\n",
       "      <th>序号</th>\n",
       "      <th>院系</th>\n",
       "      <th>学号</th>\n",
       "      <th>姓名</th>\n",
       "      <th>培养层次</th>\n",
       "      <th>奖学金等级</th>\n",
       "      <th>入选理由</th>\n",
       "    </tr>\n",
       "  </thead>\n",
       "  <tbody>\n",
       "    <tr>\n",
       "      <th>0</th>\n",
       "      <td>1</td>\n",
       "      <td>数科院</td>\n",
       "      <td>2150501009</td>\n",
       "      <td>李镛</td>\n",
       "      <td>博士</td>\n",
       "      <td>一等</td>\n",
       "      <td>科研成果丰富</td>\n",
       "    </tr>\n",
       "    <tr>\n",
       "      <th>1</th>\n",
       "      <td>2</td>\n",
       "      <td>数科院</td>\n",
       "      <td>2150501017</td>\n",
       "      <td>徐金秋</td>\n",
       "      <td>博士</td>\n",
       "      <td>一等</td>\n",
       "      <td>科研成果丰富</td>\n",
       "    </tr>\n",
       "    <tr>\n",
       "      <th>2</th>\n",
       "      <td>3</td>\n",
       "      <td>数科院</td>\n",
       "      <td>2160501012</td>\n",
       "      <td>王营</td>\n",
       "      <td>博士</td>\n",
       "      <td>一等</td>\n",
       "      <td>科研成果丰富</td>\n",
       "    </tr>\n",
       "    <tr>\n",
       "      <th>3</th>\n",
       "      <td>4</td>\n",
       "      <td>数科院</td>\n",
       "      <td>2160501015</td>\n",
       "      <td>杨龙妹</td>\n",
       "      <td>博士</td>\n",
       "      <td>一等</td>\n",
       "      <td>科研成果丰富</td>\n",
       "    </tr>\n",
       "    <tr>\n",
       "      <th>4</th>\n",
       "      <td>5</td>\n",
       "      <td>数科院</td>\n",
       "      <td>2160501020</td>\n",
       "      <td>邓小娟</td>\n",
       "      <td>博士</td>\n",
       "      <td>一等</td>\n",
       "      <td>科研成果丰富</td>\n",
       "    </tr>\n",
       "    <tr>\n",
       "      <th>5</th>\n",
       "      <td>6</td>\n",
       "      <td>数科院</td>\n",
       "      <td>2170501015</td>\n",
       "      <td>廖军</td>\n",
       "      <td>博士</td>\n",
       "      <td>一等</td>\n",
       "      <td>科研成果丰富</td>\n",
       "    </tr>\n",
       "  </tbody>\n",
       "</table>\n",
       "</div>"
      ],
      "text/plain": [
       "   序号   院系          学号   姓名 培养层次 奖学金等级    入选理由\n",
       "0   1  数科院  2150501009   李镛   博士    一等  科研成果丰富\n",
       "1   2  数科院  2150501017  徐金秋   博士    一等  科研成果丰富\n",
       "2   3  数科院  2160501012   王营   博士    一等  科研成果丰富\n",
       "3   4  数科院  2160501015  杨龙妹   博士    一等  科研成果丰富\n",
       "4   5  数科院  2160501020  邓小娟   博士    一等  科研成果丰富\n",
       "5   6  数科院  2170501015   廖军   博士    一等  科研成果丰富"
      ]
     },
     "execution_count": 18,
     "metadata": {},
     "output_type": "execute_result"
    }
   ],
   "source": [
    "df3"
   ]
  }
 ],
 "metadata": {
  "kernelspec": {
   "display_name": "Python 3",
   "language": "python",
   "name": "python3"
  },
  "language_info": {
   "codemirror_mode": {
    "name": "ipython",
    "version": 3
   },
   "file_extension": ".py",
   "mimetype": "text/x-python",
   "name": "python",
   "nbconvert_exporter": "python",
   "pygments_lexer": "ipython3",
   "version": "3.7.0"
  }
 },
 "nbformat": 4,
 "nbformat_minor": 2
}
