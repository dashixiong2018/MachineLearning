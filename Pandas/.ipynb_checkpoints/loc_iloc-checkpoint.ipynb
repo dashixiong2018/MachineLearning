{
 "cells": [
  {
   "cell_type": "code",
   "execution_count": 1,
   "metadata": {},
   "outputs": [],
   "source": [
    "import numpy as np\n",
    "import pandas as pd"
   ]
  },
  {
   "cell_type": "code",
   "execution_count": 4,
   "metadata": {},
   "outputs": [
    {
     "name": "stdout",
     "output_type": "stream",
     "text": [
      "             A   B   C   D   E   F   G   H   I   J\n",
      "2018-11-01   0   1   2   3   4   5   6   7   8   9\n",
      "2018-11-02  10  11  12  13  14  15  16  17  18  19\n",
      "2018-11-03  20  21  22  23  24  25  26  27  28  29\n",
      "2018-11-04  30  31  32  33  34  35  36  37  38  39\n"
     ]
    }
   ],
   "source": [
    "df=pd.DataFrame(np.arange(40).reshape((4,10)),index=pd.date_range('20181101',periods=4),columns=['A','B','C','D','E','F','G','H','I','J'])\n",
    "print(df)"
   ]
  },
  {
   "cell_type": "code",
   "execution_count": 5,
   "metadata": {},
   "outputs": [
    {
     "name": "stdout",
     "output_type": "stream",
     "text": [
      "             A   B   C   D   E   F   G   H   I   J\n",
      "2018-11-01   0   1   2   3   4   5   6   7   8   9\n",
      "2018-11-02  10  11  12  13  14  15  16  17  18  19\n",
      "2018-11-03  20  21  22  23  24  25  26  27  28  29\n"
     ]
    }
   ],
   "source": [
    "#选择数据loc\n",
    "print(df[0:3])"
   ]
  },
  {
   "cell_type": "code",
   "execution_count": 6,
   "metadata": {},
   "outputs": [
    {
     "name": "stdout",
     "output_type": "stream",
     "text": [
      "             A   B   C   D   E   F   G   H   I   J\n",
      "2018-11-01   0   1   2   3   4   5   6   7   8   9\n",
      "2018-11-02  10  11  12  13  14  15  16  17  18  19\n",
      "2018-11-03  20  21  22  23  24  25  26  27  28  29\n"
     ]
    }
   ],
   "source": [
    "print(df['20181101':'20181103'])"
   ]
  },
  {
   "cell_type": "code",
   "execution_count": 7,
   "metadata": {},
   "outputs": [
    {
     "name": "stdout",
     "output_type": "stream",
     "text": [
      "A    20\n",
      "B    21\n",
      "C    22\n",
      "D    23\n",
      "E    24\n",
      "F    25\n",
      "G    26\n",
      "H    27\n",
      "I    28\n",
      "J    29\n",
      "Name: 2018-11-03 00:00:00, dtype: int64\n"
     ]
    }
   ],
   "source": [
    "print(df.loc['20181103'])"
   ]
  },
  {
   "cell_type": "code",
   "execution_count": 8,
   "metadata": {},
   "outputs": [
    {
     "name": "stdout",
     "output_type": "stream",
     "text": [
      "             A   B   C   D   E   F   G   H   I   J\n",
      "2018-11-01   0   1   2   3   4   5   6   7   8   9\n",
      "2018-11-02  10  11  12  13  14  15  16  17  18  19\n",
      "2018-11-03  20  21  22  23  24  25  26  27  28  29\n"
     ]
    }
   ],
   "source": [
    "print(df.loc['20181101':'20181103'])"
   ]
  },
  {
   "cell_type": "code",
   "execution_count": 9,
   "metadata": {},
   "outputs": [
    {
     "name": "stdout",
     "output_type": "stream",
     "text": [
      "2018-11-01     0\n",
      "2018-11-02    10\n",
      "2018-11-03    20\n",
      "Freq: D, Name: A, dtype: int64\n"
     ]
    }
   ],
   "source": [
    "print(df.loc['20181101':'20181103']['A'])"
   ]
  },
  {
   "cell_type": "code",
   "execution_count": 10,
   "metadata": {},
   "outputs": [
    {
     "name": "stdout",
     "output_type": "stream",
     "text": [
      "             A   C\n",
      "2018-11-03  20  22\n",
      "2018-11-04  30  32\n"
     ]
    }
   ],
   "source": [
    "print(df.loc['20181103':'20181104',['A','C']])  #不能用df.loc['20181103':'20181104',['A':'C']]，因为属性相互之间没有联系"
   ]
  },
  {
   "cell_type": "code",
   "execution_count": 12,
   "metadata": {},
   "outputs": [
    {
     "name": "stdout",
     "output_type": "stream",
     "text": [
      "A    30\n",
      "B    31\n",
      "C    32\n",
      "D    33\n",
      "E    34\n",
      "F    35\n",
      "G    36\n",
      "H    37\n",
      "I    38\n",
      "J    39\n",
      "Name: 2018-11-04 00:00:00, dtype: int64\n"
     ]
    }
   ],
   "source": [
    "#通过id查找iloc(id只能是数值)（可以任意切割）\n",
    "print(df.iloc[3])"
   ]
  },
  {
   "cell_type": "code",
   "execution_count": 69,
   "metadata": {},
   "outputs": [
    {
     "name": "stdout",
     "output_type": "stream",
     "text": [
      "2018-11-01     0\n",
      "2018-11-02    10\n",
      "2018-11-03    20\n",
      "2018-11-04    30\n",
      "Freq: D, Name: A, dtype: int64\n"
     ]
    }
   ],
   "source": [
    "print(df.iloc[:,0])"
   ]
  },
  {
   "cell_type": "code",
   "execution_count": 70,
   "metadata": {},
   "outputs": [
    {
     "name": "stdout",
     "output_type": "stream",
     "text": [
      "             A   B   C\n",
      "2018-11-01   0   1   2\n",
      "2018-11-02  10  11  12\n",
      "2018-11-03  20  21  22\n",
      "2018-11-04  30  31  32\n"
     ]
    }
   ],
   "source": [
    "print(df.iloc[:,0:3])"
   ]
  },
  {
   "cell_type": "code",
   "execution_count": 71,
   "metadata": {},
   "outputs": [
    {
     "name": "stdout",
     "output_type": "stream",
     "text": [
      "             H   I   J\n",
      "2018-11-02  17  18  19\n",
      "2018-11-03  27  28  29\n",
      "2018-11-04  37  38  39\n"
     ]
    }
   ],
   "source": [
    "print(df.iloc[1:,7:])"
   ]
  },
  {
   "cell_type": "code",
   "execution_count": 72,
   "metadata": {},
   "outputs": [
    {
     "name": "stdout",
     "output_type": "stream",
     "text": [
      "             H   F   D   B\n",
      "2018-11-01   7   5   3   1\n",
      "2018-11-02  17  15  13  11\n",
      "2018-11-03  27  25  23  21\n",
      "2018-11-04  37  35  33  31\n"
     ]
    }
   ],
   "source": [
    "print(df.iloc[:,[7,5,3,1]])"
   ]
  },
  {
   "cell_type": "code",
   "execution_count": 73,
   "metadata": {},
   "outputs": [
    {
     "name": "stdout",
     "output_type": "stream",
     "text": [
      "             A   B   C   D   E   F   G   H   I   J\n",
      "2018-11-02  10  11  12  13  14  15  16  17  18  19\n",
      "2018-11-03  20  21  22  23  24  25  26  27  28  29\n",
      "2018-11-04  30  31  32  33  34  35  36  37  38  39\n"
     ]
    }
   ],
   "source": [
    "#根据属性（列）的值进行筛选\n",
    "print(df[df.A>5])"
   ]
  }
 ],
 "metadata": {
  "kernelspec": {
   "display_name": "Python 3",
   "language": "python",
   "name": "python3"
  },
  "language_info": {
   "codemirror_mode": {
    "name": "ipython",
    "version": 3
   },
   "file_extension": ".py",
   "mimetype": "text/x-python",
   "name": "python",
   "nbconvert_exporter": "python",
   "pygments_lexer": "ipython3",
   "version": "3.7.0"
  }
 },
 "nbformat": 4,
 "nbformat_minor": 2
}
