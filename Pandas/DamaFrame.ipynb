{
 "cells": [
  {
   "cell_type": "code",
   "execution_count": 12,
   "metadata": {},
   "outputs": [],
   "source": [
    "import numpy as np\n",
    "import pandas as pd"
   ]
  },
  {
   "cell_type": "code",
   "execution_count": 13,
   "metadata": {},
   "outputs": [
    {
     "name": "stdout",
     "output_type": "stream",
     "text": [
      "    state  year  pop\n",
      "0    ohio  2000  1.5\n",
      "1    ohio  2001  1.7\n",
      "2    ohio  2002  3.6\n",
      "3  nevada  2001  2.4\n",
      "4  nevada  2002  2.9\n"
     ]
    }
   ],
   "source": [
    "data={'state':['ohio','ohio','ohio','nevada','nevada'],\n",
    "        'year':[2000,2001,2002,2001,2002],\n",
    "         'pop':[1.5,1.7,3.6,2.4,2.9]}\n",
    "frame=pd.DataFrame(data)\n",
    "print(frame)\n",
    "#行index没有指定时会用默认值，列有序排序"
   ]
  },
  {
   "cell_type": "code",
   "execution_count": 14,
   "metadata": {},
   "outputs": [
    {
     "name": "stdout",
     "output_type": "stream",
     "text": [
      "   year   state  pop\n",
      "0  2000    ohio  1.5\n",
      "1  2001    ohio  1.7\n",
      "2  2002    ohio  3.6\n",
      "3  2001  nevada  2.4\n",
      "4  2002  nevada  2.9\n"
     ]
    }
   ],
   "source": [
    "#指定列的排序\n",
    "frame=pd.DataFrame(data,columns=['year','state','pop'])\n",
    "print(frame)"
   ]
  },
  {
   "cell_type": "code",
   "execution_count": 15,
   "metadata": {},
   "outputs": [
    {
     "name": "stdout",
     "output_type": "stream",
     "text": [
      "       year   state  pop debt\n",
      "one    2000    ohio  1.5  NaN\n",
      "two    2001    ohio  1.7  NaN\n",
      "three  2002    ohio  3.6  NaN\n",
      "four   2001  nevada  2.4  NaN\n",
      "five   2002  nevada  2.9  NaN\n",
      "\n",
      "values:\n",
      " [[2000 'ohio' 1.5 nan]\n",
      " [2001 'ohio' 1.7 nan]\n",
      " [2002 'ohio' 3.6 nan]\n",
      " [2001 'nevada' 2.4 nan]\n",
      " [2002 'nevada' 2.9 nan]]\n",
      "\n",
      "columns:\n",
      " Index(['year', 'state', 'pop', 'debt'], dtype='object')\n",
      "\n",
      "index:\n",
      " Index(['one', 'two', 'three', 'four', 'five'], dtype='object')\n",
      "\n",
      "dtypes:\n",
      " year       int64\n",
      "state     object\n",
      "pop      float64\n",
      "debt      object\n",
      "dtype: object\n"
     ]
    }
   ],
   "source": [
    "#指定行（找不到的数据默认为NaN）\n",
    "frame2=pd.DataFrame(data,columns=['year','state','pop','debt'],index=['one','two','three','four','five'])\n",
    "print(frame2)\n",
    "print(\"\\nvalues:\\n\",frame2.values)\n",
    "print(\"\\ncolumns:\\n\",frame2.columns)\n",
    "print(\"\\nindex:\\n\",frame2.index)\n",
    "print(\"\\ndtypes:\\n\",frame2.dtypes)"
   ]
  },
  {
   "cell_type": "code",
   "execution_count": 16,
   "metadata": {},
   "outputs": [
    {
     "name": "stdout",
     "output_type": "stream",
     "text": [
      "year:\n",
      " one      2000\n",
      "two      2001\n",
      "three    2002\n",
      "four     2001\n",
      "five     2002\n",
      "Name: year, dtype: int64\n",
      "\n",
      "state:\n",
      " one        ohio\n",
      "two        ohio\n",
      "three      ohio\n",
      "four     nevada\n",
      "five     nevada\n",
      "Name: state, dtype: object\n"
     ]
    }
   ],
   "source": [
    "#查询列（属性）的方式\n",
    "print(\"year:\\n\",frame2.year)\n",
    "print(\"\\nstate:\\n\",frame2['state'])\n",
    "#注意他的name属性也设置好了\n",
    "#两种设置方法的区别在于frame.XXX即可以修改也可以在没有的情况下添加；frame['XXX']只能修改现有值"
   ]
  },
  {
   "cell_type": "code",
   "execution_count": 17,
   "metadata": {},
   "outputs": [
    {
     "name": "stdout",
     "output_type": "stream",
     "text": [
      "year     2000\n",
      "state    ohio\n",
      "pop       1.5\n",
      "debt      NaN\n",
      "Name: one, dtype: object\n"
     ]
    }
   ],
   "source": [
    "#按行（index）查询数据\n",
    "print(frame2.loc['one'])"
   ]
  },
  {
   "cell_type": "code",
   "execution_count": 19,
   "metadata": {},
   "outputs": [
    {
     "name": "stdout",
     "output_type": "stream",
     "text": [
      "       year   state  pop  debt\n",
      "one    2000    ohio  1.5  16.5\n",
      "two    2001    ohio  1.7  16.5\n",
      "three  2002    ohio  3.6  16.5\n",
      "four   2001  nevada  2.4  16.5\n",
      "five   2002  nevada  2.9  16.5\n",
      "       year   state  pop  debt\n",
      "one    2000    ohio  1.5     0\n",
      "two    2001    ohio  1.7     1\n",
      "three  2002    ohio  3.6     2\n",
      "four   2001  nevada  2.4     3\n",
      "five   2002  nevada  2.9     4\n",
      "       year   state  pop  debt\n",
      "one    2000    ohio  1.5     2\n",
      "two    2001    ohio  1.7     4\n",
      "three  2002    ohio  3.6     6\n",
      "four   2001  nevada  2.4     8\n",
      "five   2002  nevada  2.9    10\n"
     ]
    }
   ],
   "source": [
    "#给列赋值(给一整列赋相同的值)\n",
    "frame2['debt']=16.5\n",
    "print(frame2)\n",
    "#给一列赋不同的值\n",
    "frame2['debt']=np.arange(5)\n",
    "print(frame2)\n",
    "frame2['debt']=[2,4,6,8,10]\n",
    "print(frame2)"
   ]
  },
  {
   "cell_type": "code",
   "execution_count": 20,
   "metadata": {},
   "outputs": [
    {
     "name": "stdout",
     "output_type": "stream",
     "text": [
      "       year   state  pop  debt  ddd\n",
      "one    2000    ohio  1.5   NaN  NaN\n",
      "two    2001    ohio  1.7  -1.2 -1.2\n",
      "three  2002    ohio  3.6   NaN  NaN\n",
      "four   2001  nevada  2.4  -1.5 -1.5\n",
      "five   2002  nevada  2.9  -1.7 -1.7\n"
     ]
    }
   ],
   "source": [
    "#给Frame添加一列，用Series会自动匹配index\n",
    "#一次性对全部的列赋值，之前的值全部舍弃，没有的值（即便之前有值）记为NaN\n",
    "val=pd.Series([-1.2,-1.5,-1.7],index=['two','four','five'])\n",
    "frame2.debt=val\n",
    "frame2['ddd']=val\n",
    "print(frame2)"
   ]
  },
  {
   "cell_type": "code",
   "execution_count": 22,
   "metadata": {},
   "outputs": [
    {
     "data": {
      "text/html": [
       "<div>\n",
       "<style scoped>\n",
       "    .dataframe tbody tr th:only-of-type {\n",
       "        vertical-align: middle;\n",
       "    }\n",
       "\n",
       "    .dataframe tbody tr th {\n",
       "        vertical-align: top;\n",
       "    }\n",
       "\n",
       "    .dataframe thead th {\n",
       "        text-align: right;\n",
       "    }\n",
       "</style>\n",
       "<table border=\"1\" class=\"dataframe\">\n",
       "  <thead>\n",
       "    <tr style=\"text-align: right;\">\n",
       "      <th></th>\n",
       "      <th>year</th>\n",
       "      <th>state</th>\n",
       "      <th>pop</th>\n",
       "      <th>debt</th>\n",
       "      <th>ddd</th>\n",
       "    </tr>\n",
       "  </thead>\n",
       "  <tbody>\n",
       "    <tr>\n",
       "      <th>one</th>\n",
       "      <td>2000</td>\n",
       "      <td>ohio</td>\n",
       "      <td>1.5</td>\n",
       "      <td>111.0</td>\n",
       "      <td>222.0</td>\n",
       "    </tr>\n",
       "    <tr>\n",
       "      <th>two</th>\n",
       "      <td>2001</td>\n",
       "      <td>ohio</td>\n",
       "      <td>1.7</td>\n",
       "      <td>-1.2</td>\n",
       "      <td>-1.2</td>\n",
       "    </tr>\n",
       "    <tr>\n",
       "      <th>three</th>\n",
       "      <td>2002</td>\n",
       "      <td>ohio</td>\n",
       "      <td>3.6</td>\n",
       "      <td>111.0</td>\n",
       "      <td>222.0</td>\n",
       "    </tr>\n",
       "    <tr>\n",
       "      <th>four</th>\n",
       "      <td>2001</td>\n",
       "      <td>nevada</td>\n",
       "      <td>2.4</td>\n",
       "      <td>-1.5</td>\n",
       "      <td>-1.5</td>\n",
       "    </tr>\n",
       "    <tr>\n",
       "      <th>five</th>\n",
       "      <td>2002</td>\n",
       "      <td>nevada</td>\n",
       "      <td>2.9</td>\n",
       "      <td>-1.7</td>\n",
       "      <td>-1.7</td>\n",
       "    </tr>\n",
       "  </tbody>\n",
       "</table>\n",
       "</div>"
      ],
      "text/plain": [
       "       year   state  pop   debt    ddd\n",
       "one    2000    ohio  1.5  111.0  222.0\n",
       "two    2001    ohio  1.7   -1.2   -1.2\n",
       "three  2002    ohio  3.6  111.0  222.0\n",
       "four   2001  nevada  2.4   -1.5   -1.5\n",
       "five   2002  nevada  2.9   -1.7   -1.7"
      ]
     },
     "execution_count": 22,
     "metadata": {},
     "output_type": "execute_result"
    }
   ],
   "source": [
    "frame2.fillna({'debt':111,'ddd':222})"
   ]
  },
  {
   "cell_type": "code",
   "execution_count": 24,
   "metadata": {},
   "outputs": [
    {
     "name": "stdout",
     "output_type": "stream",
     "text": [
      "       year   state  pop  debt  ddd  eastern\n",
      "one    2000    ohio  1.5   NaN  NaN     True\n",
      "two    2001    ohio  1.7  -1.2 -1.2     True\n",
      "three  2002    ohio  3.6   NaN  NaN     True\n",
      "four   2001  nevada  2.4  -1.5 -1.5    False\n",
      "five   2002  nevada  2.9  -1.7 -1.7    False\n"
     ]
    }
   ],
   "source": [
    "#还可以如下方式添加列（属性）\n",
    "frame2['eastern']=frame2.state=='ohio'\n",
    "print(frame2)"
   ]
  },
  {
   "cell_type": "code",
   "execution_count": 26,
   "metadata": {},
   "outputs": [
    {
     "data": {
      "text/html": [
       "<div>\n",
       "<style scoped>\n",
       "    .dataframe tbody tr th:only-of-type {\n",
       "        vertical-align: middle;\n",
       "    }\n",
       "\n",
       "    .dataframe tbody tr th {\n",
       "        vertical-align: top;\n",
       "    }\n",
       "\n",
       "    .dataframe thead th {\n",
       "        text-align: right;\n",
       "    }\n",
       "</style>\n",
       "<table border=\"1\" class=\"dataframe\">\n",
       "  <thead>\n",
       "    <tr style=\"text-align: right;\">\n",
       "      <th></th>\n",
       "      <th>year</th>\n",
       "      <th>state</th>\n",
       "      <th>pop</th>\n",
       "      <th>debt</th>\n",
       "      <th>ddd</th>\n",
       "      <th>eastern</th>\n",
       "    </tr>\n",
       "  </thead>\n",
       "  <tbody>\n",
       "    <tr>\n",
       "      <th>one</th>\n",
       "      <td>2000</td>\n",
       "      <td>ohio</td>\n",
       "      <td>1.5</td>\n",
       "      <td>NaN</td>\n",
       "      <td>NaN</td>\n",
       "      <td>True</td>\n",
       "    </tr>\n",
       "    <tr>\n",
       "      <th>two</th>\n",
       "      <td>2001</td>\n",
       "      <td>ohio</td>\n",
       "      <td>1.7</td>\n",
       "      <td>-1.2</td>\n",
       "      <td>-1.2</td>\n",
       "      <td>False</td>\n",
       "    </tr>\n",
       "    <tr>\n",
       "      <th>three</th>\n",
       "      <td>2002</td>\n",
       "      <td>ohio</td>\n",
       "      <td>3.6</td>\n",
       "      <td>NaN</td>\n",
       "      <td>NaN</td>\n",
       "      <td>True</td>\n",
       "    </tr>\n",
       "    <tr>\n",
       "      <th>four</th>\n",
       "      <td>2001</td>\n",
       "      <td>nevada</td>\n",
       "      <td>2.4</td>\n",
       "      <td>-1.5</td>\n",
       "      <td>-1.5</td>\n",
       "      <td>False</td>\n",
       "    </tr>\n",
       "    <tr>\n",
       "      <th>five</th>\n",
       "      <td>2002</td>\n",
       "      <td>nevada</td>\n",
       "      <td>2.9</td>\n",
       "      <td>-1.7</td>\n",
       "      <td>-1.7</td>\n",
       "      <td>True</td>\n",
       "    </tr>\n",
       "  </tbody>\n",
       "</table>\n",
       "</div>"
      ],
      "text/plain": [
       "       year   state  pop  debt  ddd  eastern\n",
       "one    2000    ohio  1.5   NaN  NaN     True\n",
       "two    2001    ohio  1.7  -1.2 -1.2    False\n",
       "three  2002    ohio  3.6   NaN  NaN     True\n",
       "four   2001  nevada  2.4  -1.5 -1.5    False\n",
       "five   2002  nevada  2.9  -1.7 -1.7     True"
      ]
     },
     "execution_count": 26,
     "metadata": {},
     "output_type": "execute_result"
    }
   ],
   "source": [
    "frame2['eastern']=[i in [2000,2002] for i in frame2.year]\n",
    "frame2"
   ]
  },
  {
   "cell_type": "code",
   "execution_count": 27,
   "metadata": {},
   "outputs": [
    {
     "name": "stdout",
     "output_type": "stream",
     "text": [
      "       year   state  pop  debt  ddd\n",
      "one    2000    ohio  1.5   NaN  NaN\n",
      "two    2001    ohio  1.7  -1.2 -1.2\n",
      "three  2002    ohio  3.6   NaN  NaN\n",
      "four   2001  nevada  2.4  -1.5 -1.5\n",
      "five   2002  nevada  2.9  -1.7 -1.7\n"
     ]
    }
   ],
   "source": [
    "#删除一列（属性）del(原地修改)\n",
    "del frame2['eastern']\n",
    "print(frame2)"
   ]
  },
  {
   "cell_type": "code",
   "execution_count": 28,
   "metadata": {},
   "outputs": [
    {
     "name": "stdout",
     "output_type": "stream",
     "text": [
      "      nevada  ohio\n",
      "2000     NaN   1.5\n",
      "2001     2.4   1.7\n",
      "2002     2.9   3.6\n"
     ]
    }
   ],
   "source": [
    "#用嵌套字典创建DataFrame\n",
    "#外字典的键作为列标（columus）,内字典的键作为行索引\n",
    "pop={'nevada':{2001:2.4,2002:2.9},'ohio':{2000:1.5,2001:1.7,2002:3.6}}\n",
    "frame3=pd.DataFrame(pop)\n",
    "print(frame3)"
   ]
  },
  {
   "cell_type": "code",
   "execution_count": 29,
   "metadata": {},
   "outputs": [
    {
     "name": "stdout",
     "output_type": "stream",
     "text": [
      "      ohio  nevada\n",
      "2000   1.5     NaN\n",
      "2001   1.7     2.4\n"
     ]
    }
   ],
   "source": [
    "#用已有的DataFrame的Series创建新的DateFrame\n",
    "pdata={'ohio':frame3.ohio[:-1],'nevada':frame3.nevada[:2]}\n",
    "frame4=pd.DataFrame(pdata)\n",
    "print(frame4)"
   ]
  },
  {
   "cell_type": "code",
   "execution_count": 30,
   "metadata": {},
   "outputs": [
    {
     "name": "stdout",
     "output_type": "stream",
     "text": [
      "指定列标：\n",
      "   a  b  c  d  e\n",
      "0  1  5  3  0  9\n",
      "1  1  6  1  7  7\n",
      "2  7  3  6  3  8\n",
      "3  7  4  1  5  4\n",
      "4  0  9  5  5  8\n",
      "指定行标及列标:\n",
      "    a  b  c  d  e\n",
      "2   6  1  2  4  6\n",
      "4   6  1  2  6  6\n",
      "6   5  1  9  7  6\n",
      "8   8  3  1  3  6\n",
      "10  2  7  5  5  8\n"
     ]
    }
   ],
   "source": [
    "#用numpy的矩阵创建DataFrame\n",
    "df2 = pd.DataFrame(np.random.randint(low=0, high=10, size=(5, 5)),columns=['a', 'b', 'c', 'd', 'e'])\n",
    "print(\"指定列标：\")\n",
    "print(df2)\n",
    "df2 = pd.DataFrame(np.random.randint(low=0, high=10, size=(5, 5)),columns=['a', 'b', 'c', 'd', 'e'],index=[2,4,6,8,10])\n",
    "print(\"指定行标及列标:\")\n",
    "print(df2)"
   ]
  },
  {
   "cell_type": "code",
   "execution_count": 31,
   "metadata": {},
   "outputs": [
    {
     "name": "stdout",
     "output_type": "stream",
     "text": [
      "   a  b  c  d  e\n",
      "1  6  1  2  4  6\n",
      "2  6  1  2  6  6\n",
      "3  5  1  9  7  6\n",
      "4  8  3  1  3  6\n",
      "5  2  7  5  5  8\n",
      "Int64Index([1, 2, 3, 4, 5], dtype='int64')\n",
      "Error:\n",
      " Index does not support mutable operations\n",
      "Int64Index([1, 2, 3, 4, 5], dtype='int64')\n",
      "Int64Index([1, 2, 3, 4, 5], dtype='int64')\n",
      "ind is df2.index: True\n",
      "Error:\n",
      " Index does not support mutable operations\n",
      "3\n",
      "ind is df2.index: False\n",
      "[1, 2, 3, 4, 5]\n",
      "Int64Index([1, 2, 3, 4, 5], dtype='int64')\n"
     ]
    }
   ],
   "source": [
    "#DataFrame的index不可随意更改\n",
    "#.index可以对整体进行修改，不能修改个别\n",
    "df2.index=[1,2,3,4,5]\n",
    "print(df2)\n",
    "print(df2.index)\n",
    "try:\n",
    "    df2.index[2]=11\n",
    "except TypeError as e:\n",
    "    print(\"Error:\\n\",e)\n",
    "print(df2.index)\n",
    "#将.index赋值给其他变量是则任何操作都无法修改\n",
    "ind=df2.index\n",
    "print(ind)\n",
    "print(\"ind is df2.index:\",ind is df2.index)\n",
    "try:\n",
    "    ind[2]=22\n",
    "except Exception as e:\n",
    "    print(\"Error:\\n\",e)\n",
    "print(ind[2])\n",
    "ind=[1,2,3,4,5]\n",
    "print(\"ind is df2.index:\",ind is df2.index)\n",
    "print(ind)\n",
    "print(df2.index)\n"
   ]
  },
  {
   "cell_type": "code",
   "execution_count": 32,
   "metadata": {},
   "outputs": [
    {
     "name": "stdout",
     "output_type": "stream",
     "text": [
      "        2000  2001  2002\n",
      "nevada   NaN   2.4   2.9\n",
      "ohio     1.5   1.7   3.6\n",
      "        2000  2001  2002\n",
      "nevada   NaN   2.4   2.9\n",
      "ohio     1.5   1.7   3.6\n"
     ]
    }
   ],
   "source": [
    "#行列对调（对原数据都没有影响）\n",
    "print(frame3.transpose())\n",
    "print(frame3.T)"
   ]
  },
  {
   "cell_type": "code",
   "execution_count": 33,
   "metadata": {},
   "outputs": [
    {
     "name": "stdout",
     "output_type": "stream",
     "text": [
      "   a  b  c  d  e\n",
      "1  6  1  2  4  6\n",
      "2  6  1  2  6  6\n",
      "3  5  1  9  7  6\n",
      "4  8  3  1  3  6\n",
      "5  2  7  5  5  8\n",
      "True\n",
      "False\n",
      "False\n",
      "True\n"
     ]
    }
   ],
   "source": [
    "#in\n",
    "print(df2)\n",
    "print('a' in df2.columns)\n",
    "print(6 in df2.index)\n",
    "print(0 in df2.values)\n",
    "print('a' in df2)"
   ]
  }
 ],
 "metadata": {
  "kernelspec": {
   "display_name": "Python 3",
   "language": "python",
   "name": "python3"
  },
  "language_info": {
   "codemirror_mode": {
    "name": "ipython",
    "version": 3
   },
   "file_extension": ".py",
   "mimetype": "text/x-python",
   "name": "python",
   "nbconvert_exporter": "python",
   "pygments_lexer": "ipython3",
   "version": "3.7.0"
  }
 },
 "nbformat": 4,
 "nbformat_minor": 2
}
