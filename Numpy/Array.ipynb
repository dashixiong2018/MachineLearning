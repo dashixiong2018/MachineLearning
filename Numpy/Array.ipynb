{
 "cells": [
  {
   "cell_type": "code",
   "execution_count": 106,
   "metadata": {},
   "outputs": [],
   "source": [
    "import numpy as np"
   ]
  },
  {
   "cell_type": "code",
   "execution_count": 107,
   "metadata": {},
   "outputs": [
    {
     "name": "stdout",
     "output_type": "stream",
     "text": [
      "[1 2 3 4] int64\n",
      "[0.2 1.  0.3 1.2] float64\n"
     ]
    }
   ],
   "source": [
    "#矩阵定义\n",
    "a=np.array([[1,2,3],[4,5,6]])\n",
    "b=np.array([1,2,3],dtype=np.int)    #指定变量类型\n",
    "#支持类型\n",
    "#int8、int16、int32、int64(默认)\n",
    "#float16、float32、float64（默认）、float128\n",
    "#complex64、complex128(默认）、complex256\n",
    "#bool\n",
    "\n",
    "#array函数接受一切序列型的对象\n",
    "arr1=[1,2,3,4]\n",
    "a_np=np.array(arr1)\n",
    "print(a_np,a_np.dtype)\n",
    "arr2=[0.2,1,0.3,1.2]\n",
    "a_np=np.array(arr2)\n",
    "print(a_np,a_np.dtype)"
   ]
  },
  {
   "cell_type": "code",
   "execution_count": 108,
   "metadata": {},
   "outputs": [
    {
     "name": "stdout",
     "output_type": "stream",
     "text": [
      "[0. 0. 0. 0. 0. 0. 0. 0.]\n",
      "[1. 1. 1. 1. 1. 1.]\n",
      "zer(2,3):\n",
      " [[0. 0. 0.]\n",
      " [0. 0. 0.]]\n",
      "zer(reshape):\n",
      " [[0. 0. 0.]\n",
      " [0. 0. 0.]]\n",
      "emp:\n",
      " [[[1. 1.]\n",
      "  [1. 1.]\n",
      "  [1. 1.]]\n",
      "\n",
      " [[1. 1.]\n",
      "  [1. 1.]\n",
      "  [1. 1.]]]\n",
      "[[[1. 1.]\n",
      "  [1. 1.]\n",
      "  [1. 1.]]\n",
      "\n",
      " [[1. 1.]\n",
      "  [1. 1.]\n",
      "  [1. 1.]]]\n"
     ]
    }
   ],
   "source": [
    "#默认值\n",
    "zer=np.zeros(8)\n",
    "print(zer)\n",
    "one=np.ones(6)\n",
    "print(one)\n",
    "#课指定形状\n",
    "zer=np.zeros((2,3))\n",
    "print(\"zer(2,3):\\n\",zer)\n",
    "zer=np.zeros(6).reshape((2,3))\n",
    "print(\"zer(reshape):\\n\",zer)\n",
    "\n",
    "#创建没有具体值得数值（必须指定形状）,得到未初始化的值\n",
    "emp=np.empty((2,3,2))\n",
    "print(\"emp:\\n\",emp)\n",
    "\n",
    "#noes_like/zeros_like/empty_like\n",
    "ze=np.ones_like(emp)\n",
    "print(ze)"
   ]
  },
  {
   "cell_type": "code",
   "execution_count": 109,
   "metadata": {},
   "outputs": [
    {
     "name": "stdout",
     "output_type": "stream",
     "text": [
      "[[1. 0. 0.]\n",
      " [0. 1. 0.]\n",
      " [0. 0. 1.]]\n",
      "[[1. 0. 0.]\n",
      " [0. 1. 0.]\n",
      " [0. 0. 1.]]\n"
     ]
    }
   ],
   "source": [
    "#单位矩阵\n",
    "a=np.eye(3)\n",
    "print(a)\n",
    "a=np.identity(3)\n",
    "print(a)"
   ]
  },
  {
   "cell_type": "code",
   "execution_count": 110,
   "metadata": {},
   "outputs": [
    {
     "name": "stdout",
     "output_type": "stream",
     "text": [
      "rang:\n",
      " [ 0  1  2  3  4  5  6  7  8  9 10 11 12 13 14]\n",
      "[0. 1. 2.]\n",
      "[3 4 5 6]\n"
     ]
    },
    {
     "data": {
      "text/plain": [
       "array([3, 5])"
      ]
     },
     "execution_count": 110,
     "metadata": {},
     "output_type": "execute_result"
    }
   ],
   "source": [
    "#生成序列矩阵\n",
    "rang=np.arange(15)\n",
    "print(\"rang:\\n\",rang)\n",
    "rang=np.arange(3.0)\n",
    "print(rang)\n",
    "rang=np.arange(3,7)\n",
    "print(rang)\n",
    "rang=np.arange(3,7,2)            #起点。、终点、步长\n",
    "rang"
   ]
  },
  {
   "cell_type": "code",
   "execution_count": 111,
   "metadata": {},
   "outputs": [
    {
     "data": {
      "text/plain": [
       "array([ 0. ,  2.5,  5. ,  7.5, 10. ])"
      ]
     },
     "execution_count": 111,
     "metadata": {},
     "output_type": "execute_result"
    }
   ],
   "source": [
    "#linespace 分段(默认endpoint=True)\n",
    "a=np.linspace(0,10,5)\n",
    "a"
   ]
  },
  {
   "cell_type": "code",
   "execution_count": 112,
   "metadata": {},
   "outputs": [
    {
     "data": {
      "text/plain": [
       "array([0., 2., 4., 6., 8.])"
      ]
     },
     "execution_count": 112,
     "metadata": {},
     "output_type": "execute_result"
    }
   ],
   "source": [
    "a=np.linspace(0,10,5,endpoint=False)\n",
    "a"
   ]
  },
  {
   "cell_type": "code",
   "execution_count": 113,
   "metadata": {},
   "outputs": [
    {
     "name": "stdout",
     "output_type": "stream",
     "text": [
      "5\n",
      "float64\n",
      "1\n",
      "(5,)\n"
     ]
    }
   ],
   "source": [
    "#矩阵的基本属性\n",
    "print(a.size)\n",
    "print(a.dtype)\n",
    "print(a.ndim)\n",
    "print(a.shape)"
   ]
  },
  {
   "cell_type": "code",
   "execution_count": 114,
   "metadata": {},
   "outputs": [
    {
     "name": "stdout",
     "output_type": "stream",
     "text": [
      "[ 0. 20. 40. 60. 80.]\n",
      "[ 0.  4.  8. 12. 16.]\n",
      "[False False  True  True  True]\n"
     ]
    }
   ],
   "source": [
    "#基本运算\n",
    "c=a*10\n",
    "d=a+a\n",
    "e=a>2\n",
    "print(c)\n",
    "print(d)\n",
    "print(e)"
   ]
  },
  {
   "cell_type": "code",
   "execution_count": 115,
   "metadata": {},
   "outputs": [
    {
     "name": "stdout",
     "output_type": "stream",
     "text": [
      "[[1, 2, 3], [4, 5, 6]]\n",
      "<class 'list'>\n",
      "[[1 2 3]\n",
      " [4 5 6]]\n",
      "int64\n"
     ]
    }
   ],
   "source": [
    "#将输入转化为Numpy类型\n",
    "a=[[1,2,3],[4,5,6]]\n",
    "b=np.asarray(a)\n",
    "print(a)\n",
    "print(type(a))\n",
    "print(b)\n",
    "print(b.dtype)"
   ]
  },
  {
   "cell_type": "code",
   "execution_count": 116,
   "metadata": {},
   "outputs": [
    {
     "data": {
      "text/plain": [
       "[[1, 2, 3], [4, 5, 6]]"
      ]
     },
     "execution_count": 116,
     "metadata": {},
     "output_type": "execute_result"
    }
   ],
   "source": [
    "#Numpy转换为普通的list\n",
    "li=b.tolist()\n",
    "li"
   ]
  },
  {
   "cell_type": "code",
   "execution_count": 117,
   "metadata": {},
   "outputs": [
    {
     "name": "stdout",
     "output_type": "stream",
     "text": [
      "[2.  3.2 1. ] float32\n",
      "[2 3 1] uint32\n"
     ]
    }
   ],
   "source": [
    "#Numpy数据更改数据类型\n",
    "b=np.array(['2','3.2','1'])\n",
    "c=b.astype(np.float32)\n",
    "print(c,c.dtype)\n",
    "c=c.astype('u4')          #无符号32位int型\n",
    "print(c,c.dtype)"
   ]
  },
  {
   "cell_type": "code",
   "execution_count": 118,
   "metadata": {
    "scrolled": false
   },
   "outputs": [
    {
     "name": "stdout",
     "output_type": "stream",
     "text": [
      "[[1 2 3]\n",
      " [4 5 6]]\n",
      "[[ 1  4  9]\n",
      " [16 25 36]]\n",
      "[[ 2  4  6]\n",
      " [ 8 10 12]]\n",
      "[[0 0 0]\n",
      " [0 0 0]]\n",
      "[[1.         0.5        0.33333333]\n",
      " [0.25       0.2        0.16666667]]\n",
      "[[ 1  4  9]\n",
      " [16 25 36]]\n"
     ]
    }
   ],
   "source": [
    "#数组按元素运算\n",
    "arr=np.array([[1,2,3],[4,5,6]])\n",
    "print(arr)\n",
    "ji=arr*arr\n",
    "print(ji)\n",
    "ji=arr*2\n",
    "print(ji)\n",
    "cha=arr-arr\n",
    "print(cha)\n",
    "chu=1/arr\n",
    "print(chu)\n",
    "mi=arr**2\n",
    "print(mi)"
   ]
  },
  {
   "cell_type": "code",
   "execution_count": 119,
   "metadata": {},
   "outputs": [
    {
     "name": "stdout",
     "output_type": "stream",
     "text": [
      "[[0 1]\n",
      " [2 3]]\n",
      "矩阵乘法：\n",
      " [[ 2  3]\n",
      " [ 6 11]\n",
      " [10 19]]\n",
      "矩阵乘法(功能同上)：\n",
      " [[ 2  3]\n",
      " [ 6 11]\n",
      " [10 19]]\n"
     ]
    }
   ],
   "source": [
    "#矩阵相乘\n",
    "arr=np.arange(6).reshape((3,2))\n",
    "a=np.arange(4).reshape((2,2))\n",
    "print(a)\n",
    "print(\"矩阵乘法：\\n\",np.dot(arr,a))\n",
    "print(\"矩阵乘法(功能同上)：\\n\",arr.dot(a))"
   ]
  },
  {
   "cell_type": "code",
   "execution_count": 120,
   "metadata": {},
   "outputs": [
    {
     "name": "stdout",
     "output_type": "stream",
     "text": [
      "[1 2 3 4 5 6 7]\n",
      "[ 1 11  3  4  5  6  7]\n",
      "[ 1 11 22 22  5  6  7]\n",
      "二维情况下的一维输出：\n",
      " [4 5 6]\n",
      "----------------------------------------\n",
      "[[[1 2]\n",
      "  [3 4]]\n",
      "\n",
      " [[5 6]\n",
      "  [7 8]]]\n",
      "三维下的一维输出：\n",
      " [[5 6]\n",
      " [7 8]]\n",
      "三维下的二维输出：\n",
      " [7 8]\n",
      "逗号做间隔输出的效果和上面一样：\n",
      " [7 8]\n",
      "任意维度的切片:\n",
      " [4 8]\n",
      "[[[  1   2]\n",
      "  [  3 104]]\n",
      "\n",
      " [[  5   6]\n",
      "  [  7 108]]]\n"
     ]
    }
   ],
   "source": [
    "#分片和索引\n",
    "arr=np.arange(1,8)\n",
    "print(arr)\n",
    "arr[1]=11\n",
    "print(arr)\n",
    "arr[2:4]=22\n",
    "print(arr)\n",
    "arr=np.array([[1,2,3],[4,5,6],[7,8,9]])\n",
    "print(\"二维情况下的一维输出：\\n\",arr[1])\n",
    "print(\"----------------------------------------\")\n",
    "arr=np.array([[[1,2],[3,4]],[[5,6],[7,8]]])\n",
    "print(arr)\n",
    "print(\"三维下的一维输出：\\n\",arr[1])\n",
    "print(\"三维下的二维输出：\\n\",arr[1][1])\n",
    "print(\"逗号做间隔输出的效果和上面一样：\\n\",arr[1,1])\n",
    "print(\"任意维度的切片:\\n\",arr[:,1,1])\n",
    "arr[:,1,1]+=100\n",
    "print(arr)"
   ]
  },
  {
   "cell_type": "code",
   "execution_count": 121,
   "metadata": {},
   "outputs": [
    {
     "name": "stdout",
     "output_type": "stream",
     "text": [
      "二维时：\n",
      "[[ 0  1  2  3]\n",
      " [ 4  5  6  7]\n",
      " [ 8  9 10 11]]\n",
      "[12 15 18 21]\n",
      "[ 6 22 38]\n",
      "三维时：\n",
      "[[[ 0  1]\n",
      "  [ 2  3]\n",
      "  [ 4  5]]\n",
      "\n",
      " [[ 6  7]\n",
      "  [ 8  9]\n",
      "  [10 11]]]\n",
      "arr1[0]:\n",
      " [[0 1]\n",
      " [2 3]\n",
      " [4 5]]\n",
      "锁定一维度求和：\n",
      "[[ 6  8]\n",
      " [10 12]\n",
      " [14 16]]\n",
      "锁定二维度求和：\n",
      "[30 36]\n",
      "[14 22 30]\n",
      "11\n"
     ]
    }
   ],
   "source": [
    "#维度问题\n",
    "#axis=a，表示沿着a轴做统计，也就是a轴的值可以不同，\n",
    "#但a轴以外的要相同的这些数据做统计\n",
    "arr0=np.arange(12).reshape((3,4))\n",
    "print(\"二维时：\")\n",
    "print(arr0)\n",
    "print(np.sum(arr0,axis=0))\n",
    "print(np.sum(arr0,axis=1))\n",
    "print(\"三维时：\")\n",
    "arr1=np.arange(12).reshape((2,3,2))\n",
    "print(arr1)\n",
    "print(\"arr1[0]:\\n\",arr1[0])\n",
    "print(\"锁定一维度求和：\")\n",
    "print(np.sum(arr1,axis=0))\n",
    "print(\"锁定二维度求和：\")\n",
    "print(np.sum(arr1,axis=(0,1)))\n",
    "print(np.sum(arr1,axis=(0,2)))\n",
    "print(np.argmax(arr1))"
   ]
  },
  {
   "cell_type": "code",
   "execution_count": 122,
   "metadata": {},
   "outputs": [
    {
     "data": {
      "text/plain": [
       "array([ 0,  1,  2,  3,  4,  5,  6,  7,  8,  9, 10, 11])"
      ]
     },
     "execution_count": 122,
     "metadata": {},
     "output_type": "execute_result"
    }
   ],
   "source": [
    "arr1.flatten()"
   ]
  },
  {
   "cell_type": "code",
   "execution_count": 123,
   "metadata": {},
   "outputs": [
    {
     "data": {
      "text/plain": [
       "array([[[ 0,  1],\n",
       "        [ 2,  3],\n",
       "        [ 4,  5]],\n",
       "\n",
       "       [[ 6,  7],\n",
       "        [ 8,  9],\n",
       "        [10, 11]]])"
      ]
     },
     "execution_count": 123,
     "metadata": {},
     "output_type": "execute_result"
    }
   ],
   "source": [
    "arr1"
   ]
  },
  {
   "cell_type": "code",
   "execution_count": 124,
   "metadata": {},
   "outputs": [
    {
     "name": "stdout",
     "output_type": "stream",
     "text": [
      "浅拷贝和深拷贝\n",
      "[  7 108]\n",
      "[[[  1   2]\n",
      "  [  3 104]]\n",
      "\n",
      " [[  5   6]\n",
      "  [ 33 108]]]\n"
     ]
    }
   ],
   "source": [
    "#切片是浅拷贝，得到视图（两者相互影响），copy（）是深拷贝，互相独立\n",
    "print(\"浅拷贝和深拷贝\")\n",
    "line=arr[1,1]\n",
    "print(line)\n",
    "line[0]=33\n",
    "print(arr)"
   ]
  },
  {
   "cell_type": "code",
   "execution_count": 125,
   "metadata": {},
   "outputs": [
    {
     "name": "stdout",
     "output_type": "stream",
     "text": [
      "[ 33 108]\n",
      "[[[  1   2]\n",
      "  [  3 104]]\n",
      "\n",
      " [[  5   6]\n",
      "  [ 33 108]]]\n"
     ]
    }
   ],
   "source": [
    "line=arr[1,1].copy()\n",
    "print(line)\n",
    "line[0]=44.0\n",
    "print(arr)"
   ]
  },
  {
   "cell_type": "code",
   "execution_count": 126,
   "metadata": {},
   "outputs": [
    {
     "name": "stdout",
     "output_type": "stream",
     "text": [
      "[[1, 2, 3], [4, 5, 6]]\n",
      "[4, 5, 6]\n",
      "[[1, 2, 3], [11, 5, 6]]\n",
      "[11, 5, 6]\n"
     ]
    }
   ],
   "source": [
    "#列表中存在相同的问题\n",
    "a=[[1,2,3],[4,5,6]]\n",
    "print(a)\n",
    "b=a[1]\n",
    "print(b)\n",
    "b[0]=11\n",
    "print(a)\n",
    "c=b.copy()\n",
    "c[0]=22\n",
    "print(b)\n"
   ]
  },
  {
   "cell_type": "code",
   "execution_count": 127,
   "metadata": {},
   "outputs": [
    {
     "name": "stdout",
     "output_type": "stream",
     "text": [
      "[[0.     0.0625 0.125  0.1875]\n",
      " [0.25   0.3125 0.375  0.4375]\n",
      " [0.5    0.5625 0.625  0.6875]\n",
      " [0.75   0.8125 0.875  0.9375]]\n",
      "sin\n",
      " [[0.         0.06245932 0.12467473 0.1864033 ]\n",
      " [0.24740396 0.30743851 0.36627253 0.42367626]\n",
      " [0.47942554 0.53330267 0.58509727 0.63460708]\n",
      " [0.68163876 0.72600866 0.7675435  0.80608111]]\n",
      "original:\n",
      " [[0.     0.0625 0.125  0.1875]\n",
      " [0.25   0.3125 0.375  0.4375]\n",
      " [0.5    0.5625 0.625  0.6875]\n",
      " [0.75   0.8125 0.875  0.9375]]\n",
      "cos:\n",
      " [[1.         0.99804751 0.99219767 0.98247331]\n",
      " [0.96891242 0.95156795 0.93050762 0.90581368]\n",
      " [0.87758256 0.8459245  0.81096312 0.77283495]\n",
      " [0.73168887 0.68768556 0.64099686 0.59180508]]\n",
      "max: 0.9375\n",
      "average: 0.46875\n"
     ]
    }
   ],
   "source": [
    "#各种常用函数\n",
    "arr=np.arange(16).reshape((4,4))/16\n",
    "print(arr)\n",
    "print(\"sin\\n\",np.sin(arr))\n",
    "print(\"original:\\n\",arr)\n",
    "print(\"cos:\\n\",np.cos(arr))\n",
    "print(\"max:\",np.max(arr))\n",
    "print(\"average:\",np.average(arr))\n",
    "#更多函数https://www.cnblogs.com/TensorSense/p/6795995.html"
   ]
  },
  {
   "cell_type": "code",
   "execution_count": 129,
   "metadata": {},
   "outputs": [
    {
     "data": {
      "text/plain": [
       "array([[0.    , 0.25  , 0.5   , 0.75  ],\n",
       "       [0.0625, 0.3125, 0.5625, 0.8125],\n",
       "       [0.125 , 0.375 , 0.625 , 0.875 ],\n",
       "       [0.1875, 0.4375, 0.6875, 0.9375]])"
      ]
     },
     "execution_count": 129,
     "metadata": {},
     "output_type": "execute_result"
    }
   ],
   "source": [
    "#不改变原值\n",
    "arr.swapaxes(0,1)"
   ]
  },
  {
   "cell_type": "code",
   "execution_count": 130,
   "metadata": {},
   "outputs": [
    {
     "data": {
      "text/plain": [
       "array([[0.    , 0.0625, 0.125 , 0.1875],\n",
       "       [0.25  , 0.3125, 0.375 , 0.4375],\n",
       "       [0.5   , 0.5625, 0.625 , 0.6875],\n",
       "       [0.75  , 0.8125, 0.875 , 0.9375]])"
      ]
     },
     "execution_count": 130,
     "metadata": {},
     "output_type": "execute_result"
    }
   ],
   "source": [
    "arr"
   ]
  },
  {
   "cell_type": "code",
   "execution_count": 61,
   "metadata": {},
   "outputs": [],
   "source": [
    "#常用函数\n",
    "# np.full(shape, val): 生成全为val \n",
    "# np.linspace（1,10,4, endpoint = False）：endpoint 表示10是否作为生成的元素 \n",
    "# 数组的维度变换\n",
    "# .reshape(shape) : 不改变当前数组，依shape生成 \n",
    "# .resize(shape) : 改变当前数组，依shape生成 \n",
    "# .swapaxes(ax1, ax2) : 将两个维度调换 \n",
    "# .flatten() : 对数组进行降维，返回折叠后的一位数组\n",
    "# 数组向列表的转换： a.tolist() \n",
    "# 数组的运算 \n",
    "# np.abs(a) np.fabs(a) : 取各元素的绝对值 \n",
    "# np.sqrt(a) : 计算各元素的平方根 \n",
    "# np.square(a): 计算各元素的平方 \n",
    "# np.log(a) np.log10(a) np.log2(a) : 计算各元素的自然对数、10、2为底的对数 \n",
    "# np.ceil(a) np.floor(a) : 计算各元素的ceiling 值， floor值（ceiling向上取整，floor向下取整） \n",
    "# np.rint(a) : 各元素 四舍五入 \n",
    "# np.modf(a) : 将数组各元素的小数和整数部分以两个独立数组形式返回 \n",
    "# np.exp(a) : 计算各元素的指数值 \n",
    "# np.sign(a) : 计算各元素的符号值 1（+），0，-1（-） \n",
    "# . \n",
    "# np.maximum(a, b) np.fmax() : 比较（或者计算）元素级的最大值 \n",
    "# np.minimum(a, b) np.fmin() : 取最小值 \n",
    "# np.mod(a, b) : 元素级的模运算 \n",
    "# np.copysign(a, b) : 将b中各元素的符号赋值给数组a的对应元素"
   ]
  },
  {
   "cell_type": "code",
   "execution_count": null,
   "metadata": {},
   "outputs": [],
   "source": []
  }
 ],
 "metadata": {
  "kernelspec": {
   "display_name": "Python 3",
   "language": "python",
   "name": "python3"
  },
  "language_info": {
   "codemirror_mode": {
    "name": "ipython",
    "version": 3
   },
   "file_extension": ".py",
   "mimetype": "text/x-python",
   "name": "python",
   "nbconvert_exporter": "python",
   "pygments_lexer": "ipython3",
   "version": "3.7.0"
  }
 },
 "nbformat": 4,
 "nbformat_minor": 2
}
