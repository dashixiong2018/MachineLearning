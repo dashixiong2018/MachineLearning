{
 "cells": [
  {
   "cell_type": "code",
   "execution_count": 2,
   "metadata": {},
   "outputs": [
    {
     "name": "stdout",
     "output_type": "stream",
     "text": [
      "['bob' 'joe' 'will' 'bob' 'will' 'joe' 'joe']\n",
      "[[-0.75919678 -0.25476277 -0.60124319  0.50101105]\n",
      " [ 0.22327417 -1.84984012 -0.84528233  1.15992271]\n",
      " [ 1.01036095  1.10291468 -0.15263278 -1.42521941]\n",
      " [ 1.38594794 -0.28133713 -1.34145846  0.51772565]\n",
      " [-1.14195829  1.45797905  0.34439014  1.47094181]\n",
      " [-0.74312431 -1.22539013 -1.01261038  0.87673253]\n",
      " [ 0.23553776  3.12927724  0.29422286 -0.74901466]]\n",
      "names==bob\n",
      "[ True False False  True False False False]\n",
      "\n",
      "data[names=='bob']\n",
      "[[-0.75919678 -0.25476277 -0.60124319  0.50101105]\n",
      " [ 1.38594794 -0.28133713 -1.34145846  0.51772565]]\n",
      "\n",
      "data[names=='bob',2:]\n",
      "[[-0.60124319  0.50101105]\n",
      " [-1.34145846  0.51772565]]\n",
      "\n",
      "data[names！='bob'，2：]\n",
      "[[-0.84528233  1.15992271]\n",
      " [-0.15263278 -1.42521941]\n",
      " [ 0.34439014  1.47094181]\n",
      " [-1.01261038  0.87673253]\n",
      " [ 0.29422286 -0.74901466]]\n"
     ]
    }
   ],
   "source": [
    "import numpy as np\n",
    "\n",
    "#布尔型索引\n",
    "names=np.array(['bob','joe','will','bob','will','joe','joe'])\n",
    "print(names)\n",
    "#生成正态随机分布\n",
    "data=np.random.randn(7,4)\n",
    "print(data)\n",
    "print(\"names==bob\")\n",
    "print(names=='bob')\n",
    "print(\"\\ndata[names=='bob']\")\n",
    "print(data[names=='bob'])\n",
    "#取第2项到最后一项\n",
    "print(\"\\ndata[names=='bob',2:]\")\n",
    "print(data[names=='bob',2:])\n",
    "print(\"\\ndata[names！='bob'，2：]\")\n",
    "print(data[names!='bob',2:])"
   ]
  },
  {
   "cell_type": "code",
   "execution_count": 3,
   "metadata": {},
   "outputs": [
    {
     "name": "stdout",
     "output_type": "stream",
     "text": [
      "data[names=='bob'|names=='joe']\n",
      "[[-0.75919678 -0.25476277 -0.60124319  0.50101105]\n",
      " [ 0.22327417 -1.84984012 -0.84528233  1.15992271]\n",
      " [ 1.38594794 -0.28133713 -1.34145846  0.51772565]\n",
      " [-0.74312431 -1.22539013 -1.01261038  0.87673253]\n",
      " [ 0.23553776  3.12927724  0.29422286 -0.74901466]]\n",
      "[ True  True False  True False  True  True]\n",
      "[[-0.60124319  0.50101105]\n",
      " [-0.84528233  1.15992271]\n",
      " [-1.34145846  0.51772565]\n",
      " [-1.01261038  0.87673253]\n",
      " [ 0.29422286 -0.74901466]]\n"
     ]
    }
   ],
   "source": [
    "print(\"data[names=='bob'|names=='joe']\")\n",
    "print(data[(names=='bob')|(names=='joe')])\n",
    "#可以用逻辑运算符&和|（and/or）\n",
    "mask=(names=='bob')|(names=='joe')\n",
    "print(mask)\n",
    "print(data[mask,2:])"
   ]
  },
  {
   "cell_type": "code",
   "execution_count": 14,
   "metadata": {},
   "outputs": [
    {
     "data": {
      "text/plain": [
       "[True, True, False, True, False, True, True]"
      ]
     },
     "execution_count": 14,
     "metadata": {},
     "output_type": "execute_result"
    }
   ],
   "source": [
    "[i in ['bob','joe'] for i in names ]"
   ]
  },
  {
   "cell_type": "code",
   "execution_count": 15,
   "metadata": {},
   "outputs": [
    {
     "data": {
      "text/plain": [
       "array([[0.        , 0.        , 0.        , 0.50101105],\n",
       "       [0.22327417, 0.        , 0.        , 1.15992271],\n",
       "       [1.01036095, 1.10291468, 0.        , 0.        ],\n",
       "       [1.38594794, 0.        , 0.        , 0.51772565],\n",
       "       [0.        , 1.45797905, 0.34439014, 1.47094181],\n",
       "       [0.        , 0.        , 0.        , 0.87673253],\n",
       "       [0.23553776, 3.12927724, 0.29422286, 0.        ]])"
      ]
     },
     "execution_count": 15,
     "metadata": {},
     "output_type": "execute_result"
    }
   ],
   "source": [
    "#实现relu\n",
    "data[data<0]=0\n",
    "data"
   ]
  },
  {
   "cell_type": "code",
   "execution_count": 46,
   "metadata": {},
   "outputs": [
    {
     "name": "stdout",
     "output_type": "stream",
     "text": [
      "[[ 0  1  2  3]\n",
      " [ 4  5  6  7]\n",
      " [ 8  9 10 11]\n",
      " [12 13 14 15]\n",
      " [16 17 18 19]\n",
      " [20 21 22 23]]\n",
      "提取3、2、5、-1行（负数为倒叙）：\n",
      "[[12 13 14 15]\n",
      " [ 8  9 10 11]\n",
      " [20 21 22 23]\n",
      " [20 21 22 23]]\n",
      "提取3、2、5、-1行的2、3列：\n",
      "[[14 15]\n",
      " [10 11]\n",
      " [22 23]\n",
      " [22 23]]\n"
     ]
    }
   ],
   "source": [
    "#花式索引（fancy indexing）\n",
    "#提取指定的一些行\n",
    "arr=np.arange(24).reshape((6,4))\n",
    "print(arr)\n",
    "print(\"提取3、2、5、-1行（负数为倒叙）：\")\n",
    "print(arr[[3,2,5,-1]])\n",
    "print(\"提取3、2、5、-1行的2、3列：\")\n",
    "print(arr[[3,2,5,-1],2:4])"
   ]
  },
  {
   "cell_type": "code",
   "execution_count": 50,
   "metadata": {},
   "outputs": [
    {
     "name": "stdout",
     "output_type": "stream",
     "text": [
      "[[ 0  1  2  3]\n",
      " [ 4  5  6  7]\n",
      " [ 8  9 10 11]\n",
      " [12 13 14 15]\n",
      " [16 17 18 19]\n",
      " [20 21 22 23]]\n",
      "输出(1,-1),(3,2),(5,3)坐标对应的值：\n",
      "[ 7 14 23]\n"
     ]
    }
   ],
   "source": [
    "#一次传入多个list，第一个list代表x坐标，第二个代表y坐标。。。。\n",
    "print(arr)\n",
    "print(\"输出(1,-1),(3,2),(5,3)坐标对应的值：\")\n",
    "print(arr[[1,3,5],[-1,2,3]])"
   ]
  },
  {
   "cell_type": "code",
   "execution_count": 54,
   "metadata": {},
   "outputs": [
    {
     "name": "stdout",
     "output_type": "stream",
     "text": [
      "取1,3行与1,3列交叉的元素：\n",
      "[[ 5  7]\n",
      " [13 15]]\n",
      "用np.ix_实现相同功能：\n",
      "[[ 5  7]\n",
      " [13 15]]\n"
     ]
    }
   ],
   "source": [
    "#取指定行与指定列\n",
    "print(\"取1,3行与1,3列交叉的元素：\")\n",
    "print(arr[[1,3]][:,[1,3]])\n",
    "#还可以用np.ix_选取指定行列交叉处的元素\n",
    "print(\"用np.ix_实现相同功能：\")\n",
    "print(arr[np.ix_([1,3],[1,3])])"
   ]
  }
 ],
 "metadata": {
  "kernelspec": {
   "display_name": "Python 3",
   "language": "python",
   "name": "python3"
  },
  "language_info": {
   "codemirror_mode": {
    "name": "ipython",
    "version": 3
   },
   "file_extension": ".py",
   "mimetype": "text/x-python",
   "name": "python",
   "nbconvert_exporter": "python",
   "pygments_lexer": "ipython3",
   "version": "3.7.0"
  }
 },
 "nbformat": 4,
 "nbformat_minor": 2
}
