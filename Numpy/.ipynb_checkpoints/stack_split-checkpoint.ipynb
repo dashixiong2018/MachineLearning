{
 "cells": [
  {
   "cell_type": "code",
   "execution_count": 2,
   "metadata": {},
   "outputs": [
    {
     "name": "stdout",
     "output_type": "stream",
     "text": [
      "a:\n",
      " [[ 0  1  2  3]\n",
      " [ 4  5  6  7]\n",
      " [ 8  9 10 11]]\n",
      "a的转置:\n",
      " [[ 0  4  8]\n",
      " [ 1  5  9]\n",
      " [ 2  6 10]\n",
      " [ 3  7 11]]\n",
      "b:\n",
      " [[0 5 6]\n",
      " [9 5 5]\n",
      " [5 4 3]]\n",
      "b的逆矩阵:\n",
      " [[-0.08928571  0.16071429 -0.08928571]\n",
      " [-0.03571429 -0.53571429  0.96428571]\n",
      " [ 0.19642857  0.44642857 -0.80357143]]\n",
      "b的迹（对角线元素和）:\n",
      " 8\n",
      "b的特征值:\n",
      " [14.         -5.23606798 -0.76393202]\n",
      "b的特征向量:\n",
      " [[-0.47062177 -0.78103069  0.1468673 ]\n",
      " [-0.73869745  0.59665436 -0.76900715]\n",
      " [-0.48253624  0.18437634  0.62213985]]\n"
     ]
    }
   ],
   "source": [
    "import numpy as np\n",
    "#矩阵的转置、逆矩阵、特征值、特征向量\n",
    "a=np.arange(12).reshape((3,4))\n",
    "print(\"a:\\n\",a)\n",
    "print(\"a的转置:\\n\",a.T)\n",
    "\n",
    "b=np.random.randint(0,10,(3,3))\n",
    "print(\"b:\\n\",b)\n",
    "print(\"b的逆矩阵:\\n\",np.linalg.inv(b))\n",
    "print(\"b的迹（对角线元素和）:\\n\",np.trace(b))\n",
    "val,vec=np.linalg.eig(b)\n",
    "print(\"b的特征值:\\n\",val)\n",
    "print(\"b的特征向量:\\n\",vec)"
   ]
  },
  {
   "cell_type": "code",
   "execution_count": 3,
   "metadata": {},
   "outputs": [
    {
     "name": "stdout",
     "output_type": "stream",
     "text": [
      "a:\n",
      " [[1 0 0]\n",
      " [0 2 0]\n",
      " [0 0 3]]\n",
      "b:\n",
      " [[0 1 2]\n",
      " [3 4 5]\n",
      " [6 7 8]]\n",
      "提取b的对角线元素：\n",
      " [0 4 8]\n",
      "提取b的上移1对角线元素：\n",
      " [1 5]\n",
      "提取b的上移2对角线元素：\n",
      " [2]\n",
      "提取b的下移1对角线元素：\n",
      " [3 7]\n"
     ]
    }
   ],
   "source": [
    "#对角矩阵diag\n",
    "a=np.diag((1,2,3))\n",
    "print(\"a:\\n\",a)\n",
    "b=np.arange(9).reshape((3,3))\n",
    "print(\"b:\\n\",b)\n",
    "print(\"提取b的对角线元素：\\n\",np.diag(b))\n",
    "print(\"提取b的上移1对角线元素：\\n\",np.diag(b,1))\n",
    "print(\"提取b的上移2对角线元素：\\n\",np.diag(b,2))\n",
    "print(\"提取b的下移1对角线元素：\\n\",np.diag(b,-1))\n"
   ]
  },
  {
   "cell_type": "code",
   "execution_count": 4,
   "metadata": {},
   "outputs": [
    {
     "name": "stdout",
     "output_type": "stream",
     "text": [
      "列合并：\n",
      " [[1 1 1]\n",
      " [2 2 2]]\n",
      "多个列合并：\n",
      " [[1 1 1]\n",
      " [2 2 2]\n",
      " [2 2 2]\n",
      " [1 1 1]]\n",
      "行合并：\n",
      " [1 1 1 2 2 2]\n"
     ]
    }
   ],
   "source": [
    "#矩阵的合并（vertical stack垂直合并、上下合并；horizontal stack水平合并）\n",
    "a=np.array([1,1,1])\n",
    "b=np.array([2,2,2])\n",
    "c_v=np.vstack((a,b))\n",
    "print(\"列合并：\\n\",c_v)\n",
    "#因为可以多个同时合并，所以合并的内容要括号括起来\n",
    "print(\"多个列合并：\\n\",np.vstack((a,b,b,a)))\n",
    "c_h=np.hstack((a,b))\n",
    "print(\"行合并：\\n\",c_h)"
   ]
  },
  {
   "cell_type": "code",
   "execution_count": 5,
   "metadata": {},
   "outputs": [
    {
     "name": "stdout",
     "output_type": "stream",
     "text": [
      "(3,)\n",
      "[1 1 1]\n",
      "(3,)\n",
      "newaxis添加一个维度：\n",
      "[[1]\n",
      " [1]\n",
      " [1]]\n",
      "(3, 1)\n",
      "转换为一行三列的矩阵：\n",
      "[[1 1 1]]\n",
      "(1, 3)\n"
     ]
    }
   ],
   "source": [
    "#把行向量变成列向量\n",
    "a=np.array([1,1,1])\n",
    "print(a.shape)\n",
    "print(a.T)\n",
    "print(a.T.shape)\n",
    "#用转置无法实现行变成列，这时候可以用添加维度\n",
    "#准守（x,y,x...）的规则添加新的维度 \n",
    "print(\"newaxis添加一个维度：\")\n",
    "print(a[:,np.newaxis])                              #newaxis\n",
    "print(a[:,np.newaxis].shape)\n",
    "#同样可以把一维的向量变成只有一行的二维矩阵\n",
    "print(\"转换为一行三列的矩阵：\")\n",
    "print(a[np.newaxis,:])\n",
    "print(a[np.newaxis,:].shape)"
   ]
  },
  {
   "cell_type": "code",
   "execution_count": 9,
   "metadata": {},
   "outputs": [
    {
     "name": "stdout",
     "output_type": "stream",
     "text": [
      "[[[ 0  1  2  3]\n",
      "  [ 4  5  6  7]\n",
      "  [ 8  9 10 11]]\n",
      "\n",
      " [[12 13 14 15]\n",
      "  [16 17 18 19]\n",
      "  [20 21 22 23]]]\n",
      "np.concatenate((a,b),axis=0):\n",
      "[[[ 0  1  2  3]\n",
      "  [ 4  5  6  7]\n",
      "  [ 8  9 10 11]]\n",
      "\n",
      " [[12 13 14 15]\n",
      "  [16 17 18 19]\n",
      "  [20 21 22 23]]\n",
      "\n",
      " [[ 0  1  2  3]\n",
      "  [ 4  5  6  7]\n",
      "  [ 8  9 10 11]]\n",
      "\n",
      " [[12 13 14 15]\n",
      "  [16 17 18 19]\n",
      "  [20 21 22 23]]]\n",
      "(4, 3, 4)\n",
      "np.concatenate((a,b),axis=2):\n",
      "[[[ 0  1  2  3  0  1  2  3]\n",
      "  [ 4  5  6  7  4  5  6  7]\n",
      "  [ 8  9 10 11  8  9 10 11]]\n",
      "\n",
      " [[12 13 14 15 12 13 14 15]\n",
      "  [16 17 18 19 16 17 18 19]\n",
      "  [20 21 22 23 20 21 22 23]]]\n",
      "(2, 3, 8)\n"
     ]
    }
   ],
   "source": [
    "#指定高维度合并\n",
    "a=np.arange(24).reshape((2,3,4))\n",
    "print(a)\n",
    "b=a.copy()\n",
    "print(\"np.concatenate((a,b),axis=0):\")                   #concatenate 连接\n",
    "print(np.concatenate((a,b),axis=0))\n",
    "print(np.concatenate((a,b),axis=0).shape)\n",
    "print(\"np.concatenate((a,b),axis=2):\")\n",
    "print(np.concatenate((a,b),axis=2))\n",
    "print(np.concatenate((a,b),axis=2).shape)"
   ]
  },
  {
   "cell_type": "code",
   "execution_count": 7,
   "metadata": {},
   "outputs": [
    {
     "name": "stdout",
     "output_type": "stream",
     "text": [
      "二维情况：\n",
      "[[ 0  1  2  3]\n",
      " [ 4  5  6  7]\n",
      " [ 8  9 10 11]]\n",
      "[array([[0, 1, 2, 3]]), array([[4, 5, 6, 7]]), array([[ 8,  9, 10, 11]])]\n",
      "[array([[0, 1],\n",
      "       [4, 5],\n",
      "       [8, 9]]), array([[ 2,  3],\n",
      "       [ 6,  7],\n",
      "       [10, 11]])]\n",
      "三维情况：\n",
      "[[[ 0  1  2  3]\n",
      "  [ 4  5  6  7]\n",
      "  [ 8  9 10 11]]\n",
      "\n",
      " [[12 13 14 15]\n",
      "  [16 17 18 19]\n",
      "  [20 21 22 23]]]\n",
      "[array([[[ 0,  1,  2,  3],\n",
      "        [ 4,  5,  6,  7],\n",
      "        [ 8,  9, 10, 11]]]), array([[[12, 13, 14, 15],\n",
      "        [16, 17, 18, 19],\n",
      "        [20, 21, 22, 23]]])]\n",
      "将a沿axis=0分成2部分：\n",
      "[[[ 0  1  2  3]\n",
      "  [ 4  5  6  7]\n",
      "  [ 8  9 10 11]]]\n",
      "[[[12 13 14 15]\n",
      "  [16 17 18 19]\n",
      "  [20 21 22 23]]]\n",
      "将a在axis=2的轴，分成2段：\n",
      " [array([[[ 0,  1],\n",
      "        [ 4,  5],\n",
      "        [ 8,  9]],\n",
      "\n",
      "       [[12, 13],\n",
      "        [16, 17],\n",
      "        [20, 21]]]), array([[[ 2,  3],\n",
      "        [ 6,  7],\n",
      "        [10, 11]],\n",
      "\n",
      "       [[14, 15],\n",
      "        [18, 19],\n",
      "        [22, 23]]])]\n",
      "不等项分割：\n",
      "[[[ 0  1]\n",
      "  [ 4  5]\n",
      "  [ 8  9]]\n",
      "\n",
      " [[12 13]\n",
      "  [16 17]\n",
      "  [20 21]]]\n",
      "[[[ 2]\n",
      "  [ 6]\n",
      "  [10]]\n",
      "\n",
      " [[14]\n",
      "  [18]\n",
      "  [22]]]\n",
      "[[[ 3]\n",
      "  [ 7]\n",
      "  [11]]\n",
      "\n",
      " [[15]\n",
      "  [19]\n",
      "  [23]]]\n"
     ]
    }
   ],
   "source": [
    "#矩阵的分割\n",
    "a=np.arange(12).reshape((3,4))\n",
    "print(\"二维情况：\")\n",
    "print(a)\n",
    "print(np.vsplit(a,3))\n",
    "print(np.hsplit(a,2))\n",
    "print(\"三维情况：\")\n",
    "a=np.arange(24).reshape((2,3,4))\n",
    "print(a)\n",
    "print(np.split(a,2,axis=0))\n",
    "print(\"将a沿axis=0分成2部分：\")\n",
    "m,n=np.split(a,2,axis=0)\n",
    "print(m)\n",
    "print(n)\n",
    "print(\"将a在axis=2的轴，分成2段：\\n\",np.split(a,2,axis=2))\n",
    "#不等项分割  .array_split\n",
    "o,p,q=np.array_split(a,3,axis=2)\n",
    "print(\"不等项分割：\")\n",
    "print(o)\n",
    "print(p)\n",
    "print(q)\n",
    "#第一个分割两列后面分割一列"
   ]
  },
  {
   "cell_type": "code",
   "execution_count": null,
   "metadata": {},
   "outputs": [],
   "source": []
  }
 ],
 "metadata": {
  "kernelspec": {
   "display_name": "Python 3",
   "language": "python",
   "name": "python3"
  },
  "language_info": {
   "codemirror_mode": {
    "name": "ipython",
    "version": 3
   },
   "file_extension": ".py",
   "mimetype": "text/x-python",
   "name": "python",
   "nbconvert_exporter": "python",
   "pygments_lexer": "ipython3",
   "version": "3.7.0"
  }
 },
 "nbformat": 4,
 "nbformat_minor": 2
}
