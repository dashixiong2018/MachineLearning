{
 "cells": [
  {
   "cell_type": "code",
   "execution_count": 3,
   "metadata": {},
   "outputs": [
    {
     "name": "stdout",
     "output_type": "stream",
     "text": [
      "单个矩阵的读写：\n",
      "<class 'numpy.ndarray'>\n",
      "int64\n",
      "[0 1 2 3 4 5 6 7 8 9] \n",
      "\n",
      "多个矩阵的读写：\n",
      "[0 1 2 3 4 5 6 7 8 9]\n",
      "[[ 0  1  2  3]\n",
      " [ 4  5  6  7]\n",
      " [ 8  9 10 11]]\n"
     ]
    }
   ],
   "source": [
    "import numpy as np\n",
    "\n",
    "print(\"单个矩阵的读写：\")\n",
    "arr=np.arange(10)\n",
    "print(type(arr))\n",
    "print(arr.dtype)\n",
    "np.save('some_array',arr)                #默认保存格式为.npy(二进制文件，所以无法直接读取)\n",
    "np.savetxt('some_txt',arr)               #保存为文本文件，可以之间读取\n",
    "a=np.load('some_array.npy')\n",
    "print(a,\"\\n\")\n",
    "\n",
    "print(\"多个矩阵的读写：\")\n",
    "b=np.arange(12).reshape((3,4))\n",
    "np.savez('more_array',fir=a,sec=b)       \n",
    "#默认格式为.npz读取时类似于字典(fir和sec是相当于创建键值对，用于查找相应数据)\n",
    "c=np.load('more_array.npz')\n",
    "print(c['fir'])\n",
    "print(c['sec'])"
   ]
  },
  {
   "cell_type": "code",
   "execution_count": 45,
   "metadata": {},
   "outputs": [
    {
     "name": "stdout",
     "output_type": "stream",
     "text": [
      "[[ 0  1  2  3  4  5]\n",
      " [ 6  7  8  9 10 11]\n",
      " [12 13 14 15 16 17]\n",
      " [18 19 20 21 22 23]]\n",
      "\n",
      "load:\n",
      "[[ 0.  1.  2.  3.  4.  5.]\n",
      " [ 6.  7.  8.  9. 10. 11.]\n",
      " [12. 13. 14. 15. 16. 17.]\n",
      " [18. 19. 20. 21. 22. 23.]]\n",
      "[[ 0.  1.  2.  3.  4.  5.]\n",
      " [ 6.  7.  8.  9. 10. 11.]\n",
      " [12. 13. 14. 15. 16. 17.]\n",
      " [18. 19. 20. 21. 22. 23.]]\n"
     ]
    }
   ],
   "source": [
    "#以文本方式保存和读取(只适用于一维和二维的数据)\n",
    "b=np.arange(24).reshape((4,6))\n",
    "print(b)\n",
    "np.savetxt('b_txt',b)                    #默认以空格作为分隔符\n",
    "np.savetxt('b_blank',b,delimiter=',')    #指定逗号为分隔符\n",
    "lo=np.loadtxt('b_txt')\n",
    "print(\"\\nload:\")\n",
    "print(lo)\n",
    "lo_=np.loadtxt('b_blank',delimiter=',')\n",
    "print(lo_)"
   ]
  },
  {
   "cell_type": "code",
   "execution_count": null,
   "metadata": {},
   "outputs": [],
   "source": []
  }
 ],
 "metadata": {
  "kernelspec": {
   "display_name": "Python 3",
   "language": "python",
   "name": "python3"
  },
  "language_info": {
   "codemirror_mode": {
    "name": "ipython",
    "version": 3
   },
   "file_extension": ".py",
   "mimetype": "text/x-python",
   "name": "python",
   "nbconvert_exporter": "python",
   "pygments_lexer": "ipython3",
   "version": "3.7.0"
  }
 },
 "nbformat": 4,
 "nbformat_minor": 2
}
